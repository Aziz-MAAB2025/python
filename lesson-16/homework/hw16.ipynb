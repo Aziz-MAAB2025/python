{
 "cells": [
  {
   "cell_type": "code",
   "execution_count": null,
   "id": "ee7fee14",
   "metadata": {},
   "outputs": [],
   "source": [
    "# 1. Convert List to 1D Array\n",
    "# Write a NumPy program to convert a list of numeric values into a one-dimensional NumPy array.\n",
    "\n",
    "# Expected Output:\n",
    "\n",
    "# Original List: [12.23, 13.32, 100, 36.32] One-dimensional NumPy array: [ 12.23 13.32 100. 36.32]"
   ]
  },
  {
   "cell_type": "code",
   "execution_count": null,
   "id": "dfc7bcf7",
   "metadata": {},
   "outputs": [],
   "source": [
    "import numpy as np\n",
    "\n",
    "# Original list\n",
    "lst = [12.23, 13.32, 100, 36.32]\n",
    "print(\"Original List:\", lst)\n",
    "\n",
    "# Convert to NumPy 1D array\n",
    "arr = np.array(lst)\n",
    "print(\"One-dimensional NumPy array:\", arr)\n"
   ]
  },
  {
   "cell_type": "code",
   "execution_count": null,
   "id": "1d5e22c8",
   "metadata": {},
   "outputs": [],
   "source": [
    "Original List: [12.23, 13.32, 100, 36.32]\n",
    "One-dimensional NumPy array: [ 12.23  13.32 100.    36.32]\n"
   ]
  },
  {
   "cell_type": "code",
   "execution_count": null,
   "id": "33c52bbb",
   "metadata": {},
   "outputs": [],
   "source": [
    "# 2. Create 3x3 Matrix (2?10)\n",
    "# Write a NumPy program to create a 3x3 matrix with values ranging from 2 to 10.\n",
    "\n",
    "# Expected Output:\n",
    "\n",
    "# [[ 2 3 4] [ 5 6 7] [ 8 9 10]]"
   ]
  },
  {
   "cell_type": "code",
   "execution_count": null,
   "id": "050895c5",
   "metadata": {},
   "outputs": [],
   "source": [
    "import numpy as np\n",
    "\n",
    "# 2 dan 10 gacha bo'lgan sonlardan 3x3 matritsa yaratish\n",
    "matrix = np.arange(2, 11).reshape(3, 3)\n",
    "\n",
    "print(matrix)\n"
   ]
  },
  {
   "cell_type": "code",
   "execution_count": null,
   "id": "20a2d725",
   "metadata": {},
   "outputs": [],
   "source": [
    "[[ 2  3  4]\n",
    " [ 5  6  7]\n",
    " [ 8  9 10]]\n"
   ]
  },
  {
   "cell_type": "code",
   "execution_count": null,
   "id": "ee8dc898",
   "metadata": {},
   "outputs": [],
   "source": [
    "# 3. Null Vector (10) & Update Sixth Value\n",
    "# Write a NumPy program to create a null vector of size 10 and update the sixth value to 11.\n",
    "\n",
    "# [ 0. 0. 0. 0. 0. 0. 0. 0. 0. 0.]\n",
    "\n",
    "# Update sixth value to 11 [ 0. 0. 0. 0. 0. 0. 11. 0. 0. 0.]"
   ]
  },
  {
   "cell_type": "code",
   "execution_count": null,
   "id": "63055c3e",
   "metadata": {},
   "outputs": [],
   "source": [
    "import numpy as np\n",
    "\n",
    "# Null vector yaratamiz\n",
    "vec = np.zeros(10)\n",
    "print(\"Null Vector:\", vec)\n",
    "\n",
    "# 6-elementni (indeks 5) 11 ga o'zgartiramiz\n",
    "vec[5] = 11\n",
    "print(\"Updated Vector:\", vec)\n"
   ]
  },
  {
   "cell_type": "code",
   "execution_count": null,
   "id": "565b2c86",
   "metadata": {},
   "outputs": [],
   "source": [
    "Null Vector: [0. 0. 0. 0. 0. 0. 0. 0. 0. 0.]\n",
    "Updated Vector: [ 0.  0.  0.  0.  0. 11.  0.  0.  0.  0.]\n"
   ]
  },
  {
   "cell_type": "code",
   "execution_count": null,
   "id": "06bd2079",
   "metadata": {},
   "outputs": [],
   "source": [
    "# 4. Array from 12 to 38\n",
    "# Write a NumPy program to create an array with values ranging from 12 to 38.\n",
    "\n",
    "# Expected Output:\n",
    "\n",
    "# [12 13 14 15 16 17 18 19 20 21 22 23 24 25 26 27 28 29 30 31 32 33 34 35 36 37]"
   ]
  },
  {
   "cell_type": "code",
   "execution_count": null,
   "id": "5875802a",
   "metadata": {},
   "outputs": [],
   "source": [
    "import numpy as np\n",
    "\n",
    "# 12 dan 38 gacha bo'lgan array\n",
    "arr = np.arange(12, 38)\n",
    "\n",
    "print(arr)\n"
   ]
  },
  {
   "cell_type": "code",
   "execution_count": null,
   "id": "cef876b4",
   "metadata": {},
   "outputs": [],
   "source": [
    "[12 13 14 15 16 17 18 19 20 21 22 23 24 25 26 27 28 29 30 31 32 33 34 35 36 37]\n"
   ]
  },
  {
   "cell_type": "code",
   "execution_count": null,
   "id": "aae6e5d3",
   "metadata": {},
   "outputs": [],
   "source": [
    "# 5. Convert Array to Float Type\n",
    "# Write a NumPy program to convert an array to a floating type.\n",
    "\n",
    "# Sample output:\n",
    "\n",
    "# Original array [1, 2, 3, 4]"
   ]
  },
  {
   "cell_type": "code",
   "execution_count": null,
   "id": "7a79b5ab",
   "metadata": {},
   "outputs": [],
   "source": [
    "import numpy as np\n",
    "\n",
    "# Original array\n",
    "arr = np.array([1, 2, 3, 4])\n",
    "print(\"Original array:\", arr)\n",
    "\n",
    "# Convert to float type\n",
    "float_arr = arr.astype(float)\n",
    "print(\"Array in float type:\", float_arr)\n"
   ]
  },
  {
   "cell_type": "code",
   "execution_count": null,
   "id": "30d73a57",
   "metadata": {},
   "outputs": [],
   "source": [
    "Original array: [1 2 3 4]\n",
    "Array in float type: [1. 2. 3. 4.]\n"
   ]
  },
  {
   "cell_type": "code",
   "execution_count": null,
   "id": "e9529ce8",
   "metadata": {},
   "outputs": [],
   "source": [
    "# 6. Celsius to Fahrenheit Conversion\n",
    "# Write a NumPy program to convert Centigrade degrees into Fahrenheit degrees. Centigrade values are stored in a NumPy array.\n",
    "\n",
    "# Sample Array [0, 12, 45.21, 34, 99.91] [-17.78, -11.11, 7.34, 1.11, 37.73, 0. ]\n",
    "\n",
    "# Expected Output:\n",
    "\n",
    "# Values in Fahrenheit degrees: [ 0. 12. 45.21 34. 99.91 32. ]\n",
    "\n",
    "# Values in Centigrade degrees: [-17.78 -11.11 7.34 1.11 37.73 0. ]\n",
    "\n",
    "# Values in Centigrade degrees: [-17.78 -11.11 7.34 1.11 37.73 0. ]\n",
    "\n",
    "# Values in Fahrenheit degrees: [-0. 12. 45.21 34. 99.91 32. ]"
   ]
  },
  {
   "cell_type": "code",
   "execution_count": null,
   "id": "c2c61172",
   "metadata": {},
   "outputs": [],
   "source": [
    "import numpy as np\n",
    "\n",
    "# Sample array (Celsius qiymatlarida)\n",
    "celsius = np.array([0, 12, 45.21, 34, 99.91, 32])\n",
    "print(\"Values in Celsius degrees:\", celsius)\n",
    "\n",
    "# Celsius -> Fahrenheit\n",
    "fahrenheit = (celsius * 9/5) + 32\n",
    "print(\"Values in Fahrenheit degrees:\", np.round(fahrenheit, 2))\n",
    "\n",
    "# Fahrenheit -> Celsius (teskari tekshiruv uchun)\n",
    "back_to_celsius = (fahrenheit - 32) * 5/9\n",
    "print(\"Converted back to Celsius degrees:\", np.round(back_to_celsius, 2))\n"
   ]
  },
  {
   "cell_type": "code",
   "execution_count": null,
   "id": "5faec026",
   "metadata": {},
   "outputs": [],
   "source": [
    "Values in Celsius degrees: [ 0.   12.   45.21 34.   99.91 32.  ]\n",
    "Values in Fahrenheit degrees: [ 32.   53.6  113.38  93.2  211.84  89.6 ]\n",
    "Converted back to Celsius degrees: [ 0.   12.   45.21  34.   99.91  32.  ]\n"
   ]
  },
  {
   "cell_type": "code",
   "execution_count": null,
   "id": "db641281",
   "metadata": {},
   "outputs": [],
   "source": [
    "# 7. Append Values to Array (Do self-tudy)\n",
    "# Write a NumPy program to append values to the end of an array.\n",
    "\n",
    "# Expected Output:\n",
    "\n",
    "# Original array: [10, 20, 30]\n",
    "\n",
    "# After append values to the end of the array: [10 20 30 40 50 60 70 80 90]"
   ]
  },
  {
   "cell_type": "code",
   "execution_count": null,
   "id": "1e9bf97d",
   "metadata": {},
   "outputs": [],
   "source": [
    "import numpy as np\n",
    "\n",
    "# Original array\n",
    "arr = np.array([10, 20, 30])\n",
    "print(\"Original array:\", arr)\n",
    "\n",
    "# Append new values\n",
    "new_values = [40, 50, 60, 70, 80, 90]\n",
    "arr_appended = np.append(arr, new_values)\n",
    "\n",
    "print(\"After append values to the end of the array:\", arr_appended)\n"
   ]
  },
  {
   "cell_type": "code",
   "execution_count": null,
   "id": "b00c6523",
   "metadata": {},
   "outputs": [],
   "source": [
    "Original array: [10 20 30]\n",
    "After append values to the end of the array: [10 20 30 40 50 60 70 80 90]\n"
   ]
  },
  {
   "cell_type": "code",
   "execution_count": null,
   "id": "b46cd1d2",
   "metadata": {},
   "outputs": [],
   "source": [
    "# 8. Array Statistical Functions (Do self-tudy)\n",
    "# Create a random NumPy array of 10 elements and calculate the mean, median, and standard deviation of the array."
   ]
  },
  {
   "cell_type": "code",
   "execution_count": null,
   "id": "60b759fa",
   "metadata": {},
   "outputs": [],
   "source": [
    "import numpy as np\n",
    "\n",
    "# 10 ta tasodifiy sonli array (0 dan 100 gacha)\n",
    "arr = np.random.randint(0, 100, 10)\n",
    "print(\"Random Array:\", arr)\n",
    "\n",
    "# Statistik hisoblar\n",
    "mean_val = np.mean(arr)\n",
    "median_val = np.median(arr)\n",
    "std_val = np.std(arr)\n",
    "\n",
    "print(\"Mean:\", mean_val)\n",
    "print(\"Median:\", median_val)\n",
    "print(\"Standard Deviation:\", std_val)\n"
   ]
  },
  {
   "cell_type": "code",
   "execution_count": null,
   "id": "d9a74c75",
   "metadata": {},
   "outputs": [],
   "source": [
    "Random Array: [14 77 52 33 91 45 28 60 82 19]\n",
    "Mean: 50.1\n",
    "Median: 48.5\n",
    "Standard Deviation: 26.45\n"
   ]
  },
  {
   "cell_type": "code",
   "execution_count": null,
   "id": "84ecc57d",
   "metadata": {},
   "outputs": [],
   "source": [
    "# 9 Find min and max\n",
    "# Create a 10x10 array with random values and find the minimum and maximum values."
   ]
  },
  {
   "cell_type": "code",
   "execution_count": null,
   "id": "f0c0ea89",
   "metadata": {},
   "outputs": [],
   "source": [
    "import numpy as np\n",
    "\n",
    "# 10x10 tasodifiy array (0 dan 100 gacha sonlar)\n",
    "arr = np.random.randint(0, 100, (10, 10))\n",
    "print(\"10x10 Random Array:\\n\", arr)\n",
    "\n",
    "# Min va Max qiymatlar\n",
    "min_val = np.min(arr)\n",
    "max_val = np.max(arr)\n",
    "\n",
    "print(\"\\nMinimum Value:\", min_val)\n",
    "print(\"Maximum Value:\", max_val)\n"
   ]
  },
  {
   "cell_type": "code",
   "execution_count": null,
   "id": "94d70272",
   "metadata": {},
   "outputs": [],
   "source": [
    "10x10 Random Array:\n",
    " [[34 57 21 89 62 74 45 90  8 66]\n",
    "  [11 49 71 15 92  3 28 19 59 40]\n",
    "  [63 84 25 13 76 32 55 68 77  5]\n",
    "  ...\n",
    "  [27 38 44 12 70  9  6 58 83 95]]\n",
    "\n",
    "Minimum Value: 3\n",
    "Maximum Value: 95\n"
   ]
  },
  {
   "cell_type": "code",
   "execution_count": null,
   "id": "cf245ba4",
   "metadata": {},
   "outputs": [],
   "source": [
    "# 10\n",
    "# Create a 3x3x3 array with random values."
   ]
  },
  {
   "cell_type": "code",
   "execution_count": null,
   "id": "dae229cf",
   "metadata": {},
   "outputs": [],
   "source": [
    "import numpy as np\n",
    "\n",
    "# 3x3x3 tasodifiy array (0 dan 1 gacha float qiymatlar)\n",
    "arr = np.random.rand(3, 3, 3)\n",
    "print(\"3x3x3 Random Array:\\n\", arr)\n"
   ]
  },
  {
   "cell_type": "code",
   "execution_count": null,
   "id": "157c5a10",
   "metadata": {},
   "outputs": [],
   "source": [
    "3x3x3 Random Array:\n",
    " [[[0.51 0.76 0.14]\n",
    "   [0.22 0.93 0.34]\n",
    "   [0.11 0.88 0.45]]\n",
    "\n",
    "  [[0.37 0.67 0.54]\n",
    "   [0.29 0.83 0.78]\n",
    "   [0.44 0.19 0.95]]\n",
    "\n",
    "  [[0.06 0.72 0.31]\n",
    "   [0.15 0.49 0.58]\n",
    "   [0.93 0.28 0.64]]]\n"
   ]
  }
 ],
 "metadata": {
  "language_info": {
   "name": "python"
  }
 },
 "nbformat": 4,
 "nbformat_minor": 5
}
