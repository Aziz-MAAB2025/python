{
 "cells": [
  {
   "cell_type": "code",
   "execution_count": 2,
   "id": "a5903136",
   "metadata": {},
   "outputs": [
    {
     "name": "stdout",
     "output_type": "stream",
     "text": [
      "leap year\n"
     ]
    }
   ],
   "source": [
    "# Homework:\n",
    "\n",
    "# def is_leap(year): \"\"\" Determines whether a given year is a leap year.\n",
    "\n",
    "# A year is a leap year if:\n",
    "# - It is divisible by 4, and\n",
    "# - It is NOT divisible by 100, unless it is also divisible by 400.\n",
    "\n",
    "# Parameters:\n",
    "# year (int): The year to be checked.\n",
    "\n",
    "# Returns:\n",
    "# bool: True if the year is a leap year, False otherwise.\n",
    "# \"\"\"\n",
    "# if not isinstance(year, int):\n",
    "#     raise ValueError(\"Year must be an integer.\")\n",
    "\n",
    "# return (year % 4 == 0 and year % 100 != 0) or (year % 400 == 0)\n",
    "\n",
    "year = int(input(\"Enter a year\"))\n",
    "if year % 4 == 0:\n",
    "        if year % 100 == 0:\n",
    "              if year % 400 == 0:\n",
    "                    print(\"leap year\")            \n",
    "              else:\n",
    "                    print(\"Not a leap year\")\n",
    "        else:\n",
    "                    print (\"leap year\")\n",
    "else:\n",
    "                    print (\"not a leap year\")\n",
    "\n",
    "\n"
   ]
  },
  {
   "cell_type": "code",
   "execution_count": 5,
   "id": "46370117",
   "metadata": {},
   "outputs": [
    {
     "name": "stdout",
     "output_type": "stream",
     "text": [
      "Helloooooo\n"
     ]
    }
   ],
   "source": [
    "# 2. Conditional Statements Exercise\n",
    "# Given an integer, n, perform the following conditional actions:\n",
    "\n",
    "# If n is odd, print Weird\n",
    "# If n is even and in the inclusive range of 2 to 5, print Not Weird\n",
    "# If n is even and in the inclusive range of 6 to 20, print Weird\n",
    "# If n is even and greater than 20, print Not Weird\n",
    "\n",
    "n = int(input(\"Bitta sonni kiriting\"))\n",
    "if n % 2 == 1:\n",
    "    print(\"Weird\")\n",
    "elif  n % 2 == 0 and 2 < n < 5:\n",
    "    print(\"Not Weird\")\n",
    "elif  n % 2 == 0 and 6 < n < 20:\n",
    "    print(\"Weird\")\n",
    "elif  n % 2 == 0 and n > 20:\n",
    "    print(\"Not Weird\")\n",
    "else:\n",
    "    print (\"Helloooooo\")\n",
    "\n"
   ]
  },
  {
   "cell_type": "code",
   "execution_count": 7,
   "id": "805c7c71",
   "metadata": {},
   "outputs": [
    {
     "name": "stdout",
     "output_type": "stream",
     "text": [
      "[4, 6, 8, 10]\n",
      "[]\n"
     ]
    }
   ],
   "source": [
    "# Given two integer numbers a and b. Find even numbers between this numbers. a and b are inclusive. Don't use loop.\n",
    "# Give two solutions.\n",
    "\n",
    "# Solution 1 with if-else statement.\n",
    "\n",
    "# Solution 2 without if-else statement.\n",
    "\n",
    "def even_numbers_between(a, b):\n",
    "    if a > b:\n",
    "        return []\n",
    "    start = a if a % 2 == 0 else a + 1\n",
    "    return list(range(start, b + 1, 2)) if start <= b else []\n",
    "\n",
    "print(even_numbers_between(3, 10))  # [4, 6, 8, 10]\n",
    "print(even_numbers_between(10, 3))  # []"
   ]
  },
  {
   "cell_type": "code",
   "execution_count": null,
   "id": "56d0d974",
   "metadata": {},
   "outputs": [],
   "source": []
  },
  {
   "cell_type": "code",
   "execution_count": null,
   "id": "8431138f",
   "metadata": {},
   "outputs": [],
   "source": []
  }
 ],
 "metadata": {
  "kernelspec": {
   "display_name": "Python 3",
   "language": "python",
   "name": "python3"
  },
  "language_info": {
   "codemirror_mode": {
    "name": "ipython",
    "version": 3
   },
   "file_extension": ".py",
   "mimetype": "text/x-python",
   "name": "python",
   "nbconvert_exporter": "python",
   "pygments_lexer": "ipython3",
   "version": "3.13.5"
  }
 },
 "nbformat": 4,
 "nbformat_minor": 5
}
