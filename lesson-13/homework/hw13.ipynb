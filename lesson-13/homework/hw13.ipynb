{
 "cells": [
  {
   "cell_type": "code",
   "execution_count": null,
   "id": "ad1cab89",
   "metadata": {},
   "outputs": [],
   "source": [
    "# Homework:\n",
    "\n",
    "# Age Calculator: Ask the user to enter their birthdate. \n",
    "# Calculate and print their age in years, months, and days."
   ]
  },
  {
   "cell_type": "code",
   "execution_count": null,
   "id": "7b44b8e6",
   "metadata": {},
   "outputs": [],
   "source": [
    "import threading\n",
    "from collections import Counter\n",
    "\n",
    "# Worker function for threads\n",
    "def process_lines(lines, result_dict, lock):\n",
    "    local_counter = Counter()\n",
    "    for line in lines:\n",
    "        words = line.strip().split()\n",
    "        local_counter.update(words)\n",
    "    # Safely update shared dictionary\n",
    "    with lock:\n",
    "        for word, count in local_counter.items():\n",
    "            result_dict[word] = result_dict.get(word, 0) + count\n",
    "\n",
    "def threaded_word_count(filename, num_threads=4):\n",
    "    # Read all lines from file\n",
    "    with open(filename, \"r\", encoding=\"utf-8\") as f:\n",
    "        lines = f.readlines()\n",
    "    \n",
    "    # Split lines into chunks\n",
    "    total_lines = len(lines)\n",
    "    chunk_size = total_lines // num_threads\n",
    "    threads = []\n",
    "    result_dict = {}\n",
    "    lock = threading.Lock()\n",
    "\n",
    "    for i in range(num_threads):\n",
    "        start = i * chunk_size\n",
    "        end = (i + 1) * chunk_size if i < num_threads - 1 else total_lines\n",
    "        t = threading.Thread(target=process_lines, args=(lines[start:end], result_dict, lock))\n",
    "        threads.append(t)\n",
    "        t.start()\n",
    "\n",
    "    # Wait for all threads\n",
    "    for t in threads:\n",
    "        t.join()\n",
    "\n",
    "    return result_dict\n",
    "\n",
    "# Example usage\n",
    "if __name__ == \"__main__\":\n",
    "    filename = \"large_text.txt\"  # Replace with your file path\n",
    "    word_counts = threaded_word_count(filename, num_threads=4)\n",
    "\n",
    "    # Print summary\n",
    "    print(\"Word occurrences:\")\n",
    "    for word, count in sorted(word_counts.items(), key=lambda x: -x[1])[:20]:\n",
    "        print(f\"{word}: {count}\")\n"
   ]
  },
  {
   "cell_type": "code",
   "execution_count": null,
   "id": "714fb608",
   "metadata": {},
   "outputs": [],
   "source": [
    "# Days Until Next Birthday: Similar to the first exercise, but this time, calculate and \n",
    "# print the number of days remaining until the user's next birthday."
   ]
  },
  {
   "cell_type": "code",
   "execution_count": 1,
   "id": "262148fb",
   "metadata": {},
   "outputs": [
    {
     "name": "stdout",
     "output_type": "stream",
     "text": [
      "Invalid date format! Please use YYYY-MM-DD.\n"
     ]
    }
   ],
   "source": [
    "from datetime import date, datetime\n",
    "\n",
    "def days_until_birthday(birthdate):\n",
    "    today = date.today()\n",
    "    # Next birthday in this year\n",
    "    next_birthday = date(today.year, birthdate.month, birthdate.day)\n",
    "\n",
    "    # If birthday already passed this year, use next year\n",
    "    if next_birthday < today:\n",
    "        next_birthday = date(today.year + 1, birthdate.month, birthdate.day)\n",
    "\n",
    "    delta = next_birthday - today\n",
    "    return delta.days\n",
    "\n",
    "if __name__ == \"__main__\":\n",
    "    bdate_str = input(\"Enter your birthdate (YYYY-MM-DD): \")\n",
    "    try:\n",
    "        birthdate = datetime.strptime(bdate_str, \"%Y-%m-%d\").date()\n",
    "        days_left = days_until_birthday(birthdate)\n",
    "        print(f\"There are {days_left} days left until your next birthday 🎂\")\n",
    "    except ValueError:\n",
    "        print(\"Invalid date format! Please use YYYY-MM-DD.\")\n"
   ]
  },
  {
   "cell_type": "code",
   "execution_count": null,
   "id": "7e38e6b6",
   "metadata": {},
   "outputs": [],
   "source": [
    "# Meeting Scheduler: Ask the user to enter the current date and time, as well as the duration of a meeting in hours and minutes. Calculate and \n",
    "# print the date and time when the meeting will end."
   ]
  },
  {
   "cell_type": "code",
   "execution_count": null,
   "id": "c7f3117c",
   "metadata": {},
   "outputs": [],
   "source": [
    "from datetime import datetime, timedelta\n",
    "\n",
    "if __name__ == \"__main__\":\n",
    "    try:\n",
    "        # Step 1: Get current date and time\n",
    "        current_str = input(\"Enter current date and time (YYYY-MM-DD HH:MM): \")\n",
    "        current_dt = datetime.strptime(current_str, \"%Y-%m-%d %H:%M\")\n",
    "\n",
    "        # Step 2: Get meeting duration\n",
    "        hours = int(input(\"Enter meeting duration hours: \"))\n",
    "        minutes = int(input(\"Enter meeting duration minutes: \"))\n",
    "\n",
    "        # Step 3: Calculate end time\n",
    "        duration = timedelta(hours=hours, minutes=minutes)\n",
    "        end_dt = current_dt + duration\n",
    "\n",
    "        # Step 4: Print result\n",
    "        print(f\"The meeting will end on {end_dt.strftime('%Y-%m-%d %H:%M')}\")\n",
    "    \n",
    "    except ValueError:\n",
    "        print(\"Invalid input! Please check your date/time format (YYYY-MM-DD HH:MM).\")\n"
   ]
  },
  {
   "cell_type": "code",
   "execution_count": null,
   "id": "191c76f8",
   "metadata": {},
   "outputs": [],
   "source": [
    "# Timezone Converter: Create a program that allows the user to enter a date and time along with their current timezone, and then convert and print the date and \n",
    "# time in another timezone of their choice."
   ]
  },
  {
   "cell_type": "code",
   "execution_count": null,
   "id": "5e907ded",
   "metadata": {},
   "outputs": [],
   "source": [
    "from datetime import datetime\n",
    "from zoneinfo import ZoneInfo\n",
    "\n",
    "if __name__ == \"__main__\":\n",
    "    try:\n",
    "        # Step 1: Ask user for date/time\n",
    "        dt_str = input(\"Enter date and time (YYYY-MM-DD HH:MM): \")\n",
    "        dt = datetime.strptime(dt_str, \"%Y-%m-%d %H:%M\")\n",
    "\n",
    "        # Step 2: Ask for timezones\n",
    "        from_tz = input(\"Enter your current timezone (e.g., Asia/Tashkent): \")\n",
    "        to_tz = input(\"Enter target timezone (e.g., America/New_York): \")\n",
    "\n",
    "        # Step 3: Localize to source timezone\n",
    "        dt_local = dt.replace(tzinfo=ZoneInfo(from_tz))\n",
    "\n",
    "        # Step 4: Convert to target timezone\n",
    "        dt_converted = dt_local.astimezone(ZoneInfo(to_tz))\n",
    "\n",
    "        # Step 5: Print result\n",
    "        print(f\"{dt_local.strftime('%Y-%m-%d %H:%M %Z')} in {from_tz}\")\n",
    "        print(f\"is {dt_converted.strftime('%Y-%m-%d %H:%M %Z')} in {to_tz}\")\n",
    "\n",
    "    except Exception as e:\n",
    "        print(\"Error:\", e)\n",
    "        print(\"Hint: Make sure you use valid timezones like 'Europe/London', 'Asia/Tashkent', etc.\")\n"
   ]
  },
  {
   "cell_type": "code",
   "execution_count": null,
   "id": "2e766d96",
   "metadata": {},
   "outputs": [],
   "source": [
    "# Countdown Timer: Implement a countdown timer. Ask the user to input a future date and time, and then continuously print \n",
    "# the time remaining until that point in regular intervals (e.g., every second)."
   ]
  },
  {
   "cell_type": "code",
   "execution_count": null,
   "id": "3924fee1",
   "metadata": {},
   "outputs": [],
   "source": [
    "from datetime import datetime\n",
    "import time\n",
    "\n",
    "def countdown(target_dt):\n",
    "    while True:\n",
    "        now = datetime.now()\n",
    "        remaining = target_dt - now\n",
    "\n",
    "        if remaining.total_seconds() <= 0:\n",
    "            print(\"\\n⏰ Countdown finished!\")\n",
    "            break\n",
    "\n",
    "        days = remaining.days\n",
    "        hours, remainder = divmod(remaining.seconds, 3600)\n",
    "        minutes, seconds = divmod(remainder, 60)\n",
    "\n",
    "        print(f\"\\rTime left: {days}d {hours}h {minutes}m {seconds}s\", end=\"\")\n",
    "\n",
    "        time.sleep(1)\n",
    "\n",
    "if __name__ == \"__main__\":\n",
    "    try:\n",
    "        # Ask user for target date/time\n",
    "        dt_str = input(\"Enter future date and time (YYYY-MM-DD HH:MM:SS): \")\n",
    "        target_dt = datetime.strptime(dt_str, \"%Y-%m-%d %H:%M:%S\")\n",
    "\n",
    "        countdown(target_dt)\n",
    "    except ValueError:\n",
    "        print(\"Invalid date format! Please use YYYY-MM-DD HH:MM:SS.\")\n"
   ]
  },
  {
   "cell_type": "code",
   "execution_count": null,
   "id": "ab03ee0b",
   "metadata": {},
   "outputs": [],
   "source": [
    "# Email Validator: Write a program that validates email addresses. Ask the user to input an email address, \n",
    "# and check if it follows a valid email format."
   ]
  },
  {
   "cell_type": "code",
   "execution_count": null,
   "id": "88ee66fc",
   "metadata": {},
   "outputs": [],
   "source": [
    "import re\n",
    "\n",
    "def validate_email(email):\n",
    "    # Simple regex for email validation\n",
    "    pattern = r'^[A-Za-z0-9._%+-]+@[A-Za-z0-9.-]+\\.[A-Za-z]{2,}$'\n",
    "    return re.match(pattern, email) is not None\n",
    "\n",
    "if __name__ == \"__main__\":\n",
    "    email = input(\"Enter an email address: \")\n",
    "    if validate_email(email):\n",
    "        print(\"✅ Valid email address.\")\n",
    "    else:\n",
    "        print(\"❌ Invalid email address.\")\n"
   ]
  },
  {
   "cell_type": "code",
   "execution_count": null,
   "id": "48b0847f",
   "metadata": {},
   "outputs": [],
   "source": [
    "# Phone Number Formatter: Create a program that takes a phone number as input and formats it according to a standard format. \n",
    "# For example, convert \"1234567890\" to \"(123) 456-7890\"."
   ]
  },
  {
   "cell_type": "code",
   "execution_count": null,
   "id": "bfbd90a5",
   "metadata": {},
   "outputs": [],
   "source": [
    "import re\n",
    "\n",
    "def format_phone_number(phone):\n",
    "    # Remove all non-digit characters\n",
    "    digits = re.sub(r\"\\D\", \"\", phone)\n",
    "\n",
    "    if len(digits) == 10:\n",
    "        return f\"({digits[0:3]}) {digits[3:6]}-{digits[6:10]}\"\n",
    "    else:\n",
    "        return None\n",
    "\n",
    "if __name__ == \"__main__\":\n",
    "    phone = input(\"Enter a phone number: \")\n",
    "    formatted = format_phone_number(phone)\n",
    "\n",
    "    if formatted:\n",
    "        print(\"✅ Formatted phone number:\", formatted)\n",
    "    else:\n",
    "        print(\"❌ Invalid phone number. Please enter 10 digits.\")\n"
   ]
  },
  {
   "cell_type": "code",
   "execution_count": null,
   "id": "2554d737",
   "metadata": {},
   "outputs": [],
   "source": [
    "# Password Strength Checker: Implement a password strength checker. Ask the user to input a password and check if it meets certain criteria (e.g., \n",
    "# minimum length, contains at least one uppercase letter, one lowercase letter, and one digit)."
   ]
  },
  {
   "cell_type": "code",
   "execution_count": null,
   "id": "ea2a081a",
   "metadata": {},
   "outputs": [],
   "source": [
    "import re\n",
    "\n",
    "def check_password_strength(password):\n",
    "    criteria = {\n",
    "        \"length\": len(password) >= 8,\n",
    "        \"uppercase\": bool(re.search(r\"[A-Z]\", password)),\n",
    "        \"lowercase\": bool(re.search(r\"[a-z]\", password)),\n",
    "        \"digit\": bool(re.search(r\"\\d\", password)),\n",
    "        \"special\": bool(re.search(r\"[!@#$%^&*(),.?\\\":{}|<>]\", password))\n",
    "    }\n",
    "\n",
    "    strength = sum(criteria.values())\n",
    "\n",
    "    if strength == 5:\n",
    "        level = \"Strong 💪\"\n",
    "    elif strength >= 3:\n",
    "        level = \"M\n"
   ]
  },
  {
   "cell_type": "code",
   "execution_count": null,
   "id": "fe9ead43",
   "metadata": {},
   "outputs": [],
   "source": [
    "# Word Finder: Develop a program that finds all occurrences of a specific word in a given text. Ask the user to input a word, \n",
    "# and then search for and print all occurrences of that word in a sample text."
   ]
  },
  {
   "cell_type": "code",
   "execution_count": null,
   "id": "7a06b626",
   "metadata": {},
   "outputs": [],
   "source": [
    "import re\n",
    "\n",
    "def find_word_occurrences(text, word):\n",
    "    # \\b ensures whole word matching, re.IGNORECASE makes it case-insensitive\n",
    "    matches = [m.start() for m in re.finditer(rf\"\\b{re.escape(word)}\\b\", text, re.IGNORECASE)]\n",
    "    return matches\n",
    "\n",
    "if __name__ == \"__main__\":\n",
    "    sample_text = \"\"\"\n",
    "    Python is powerful. Python is easy to learn.\n",
    "    Many developers love Python because it's versatile and popular.\n",
    "    \"\"\"\n",
    "    \n",
    "    word = input(\"Enter a word to search: \")\n",
    "    positions = find_word_occurre\n"
   ]
  },
  {
   "cell_type": "code",
   "execution_count": null,
   "id": "a496a08e",
   "metadata": {},
   "outputs": [],
   "source": [
    "# Date Extractor: Write a program that extracts dates from a given text. Ask the user to input a text, and \n",
    "# then identify and print all the dates present in the text."
   ]
  },
  {
   "cell_type": "code",
   "execution_count": null,
   "id": "e4d29e35",
   "metadata": {},
   "outputs": [],
   "source": [
    "import re\n",
    "\n",
    "def extract_dates(text):\n",
    "    # Regex for formats like DD/MM/YYYY, DD-MM-YYYY, YYYY-MM-DD, MM/DD/YYYY\n",
    "    date_pattern = r\"\\b(?:\\d{2}[/-]\\d{2}[/-]\\d{4}|\\d{4}[/-]\\d{2}[/-]\\d{2})\\b\"\n",
    "    return re.findall(date_pattern, text)\n",
    "\n",
    "if __name__ == \"__main__\":\n",
    "    text = input(\"Enter text containing dates: \")\n",
    "    dates = extract_dates(text)\n",
    "\n",
    "    if date\n"
   ]
  }
 ],
 "metadata": {
  "kernelspec": {
   "display_name": "Python 3",
   "language": "python",
   "name": "python3"
  },
  "language_info": {
   "codemirror_mode": {
    "name": "ipython",
    "version": 3
   },
   "file_extension": ".py",
   "mimetype": "text/x-python",
   "name": "python",
   "nbconvert_exporter": "python",
   "pygments_lexer": "ipython3",
   "version": "3.13.5"
  }
 },
 "nbformat": 4,
 "nbformat_minor": 5
}
