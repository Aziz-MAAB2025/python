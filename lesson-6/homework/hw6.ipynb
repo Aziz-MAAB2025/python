{
 "cells": [
  {
   "cell_type": "code",
   "execution_count": null,
   "id": "75f1f377",
   "metadata": {},
   "outputs": [],
   "source": [
    "# 1. Modify String with Underscores\n",
    "# Given a string txt, insert an underscore (_) after every third character. If a character is a vowel or already has an underscore after it, \n",
    "# shift the underscore placement to the next character. No underscore should be added at the end.\n",
    "\n",
    "# Examples\n",
    "# Input: hello Output: hel_lo\n",
    "\n",
    "# Input: assalom Output: ass_alom\n",
    "\n",
    "# Input: abcabcabcdeabcdefabcdefg Output: abc_abc_abcd_abcd_abcdef\n",
    "\n",
    "\n",
    "def insert_underscores(txt):\n",
    "    result = []\n",
    "    i = 0\n",
    "    count = 0\n",
    "    while i < len(txt):\n",
    "        result.append(txt[i])\n",
    "        count += 1\n",
    "\n",
    "        # Check if this is a position for inserting underscore\n",
    "        if count == 3:\n",
    "            # Don't add underscore at end\n",
    "            if i + 1 < len(txt):\n",
    "                # Shift underscore forward if current is vowel or already followed by underscore\n",
    "                if txt[i] in 'aeiou' or (i + 1 < len(txt) and txt[i + 1] == '_'):\n",
    "                    result.append(txt[i + 1])\n",
    "                    result.append('_')\n",
    "                    i += 1\n",
    "                else:\n",
    "                    result.append('_')\n",
    "            count = 0\n",
    "        i += 1\n",
    "\n",
    "    return ''.join(result)\n",
    "\n",
    "\n",
    "print(insert_underscores(\"hello\"))              # Output: hel_lo\n",
    "print(insert_underscores(\"assalom\"))            # Output: ass_alom\n",
    "print(insert_underscores(\"abcabcabcdeabcdefabcdefg\"))  # Output: abc_abc_abcd_abcd_abcdef\n"
   ]
  },
  {
   "cell_type": "code",
   "execution_count": 3,
   "id": "536616b9",
   "metadata": {},
   "outputs": [
    {
     "name": "stdout",
     "output_type": "stream",
     "text": [
      "0\n",
      "1\n",
      "4\n"
     ]
    }
   ],
   "source": [
    "# 2. Integer Squares Exercise\n",
    "# Task\n",
    "# The provided code stub reads an integer, n, from STDIN. For all non-negative integers i where 0 <= i < n, print i^2.\n",
    "\n",
    "# Example Input\n",
    "# 5\n",
    "# Example Output\n",
    "# 0\n",
    "# 1\n",
    "# 4\n",
    "# 9\n",
    "# 16\n",
    "# Input Format\n",
    "# The first and only line contains the integer, n.\n",
    "\n",
    "# Constraints\n",
    "# 1 <= n <= 20\n",
    "# Output Format\n",
    "# Print n lines, one corresponding to each i^2 where 0 <= i < n.\n",
    "\n",
    "\n",
    "# Read input\n",
    "n = int(input())\n",
    "\n",
    "# Loop from 0 to n-1\n",
    "for i in range(n):\n",
    "    print(i ** 2)\n"
   ]
  },
  {
   "cell_type": "code",
   "execution_count": 4,
   "id": "82450d41",
   "metadata": {},
   "outputs": [
    {
     "name": "stdout",
     "output_type": "stream",
     "text": [
      "1\n",
      "2\n",
      "3\n",
      "4\n",
      "5\n",
      "6\n",
      "7\n",
      "8\n",
      "9\n",
      "10\n"
     ]
    }
   ],
   "source": [
    "# 3. Loop-Based Exercises\n",
    "# Exercise 1: Print first 10 natural numbers using a while loop\n",
    "\n",
    "# Initialize counter\n",
    "i = 1\n",
    "\n",
    "# Loop while i is less than or equal to 10\n",
    "while i <= 10:\n",
    "    print(i)\n",
    "    i += 1\n"
   ]
  },
  {
   "cell_type": "code",
   "execution_count": 5,
   "id": "515fb990",
   "metadata": {},
   "outputs": [
    {
     "name": "stdout",
     "output_type": "stream",
     "text": [
      "1 \n",
      "1 2 \n",
      "1 2 3 \n",
      "1 2 3 4 \n",
      "1 2 3 4 5 \n"
     ]
    }
   ],
   "source": [
    "# Exercise 2: Print the following pattern\n",
    "# 1\n",
    "# 1 2\n",
    "# 1 2 3\n",
    "# 1 2 3 4\n",
    "# 1 2 3 4 5\n",
    "\n",
    "# Define number of rows\n",
    "rows = 5\n",
    "\n",
    "# Outer loop for rows\n",
    "for i in range(1, rows + 1):\n",
    "    # Inner loop for numbers in each row\n",
    "    for j in range(1, i + 1):\n",
    "        print(j, end=' ')\n",
    "    print()  # Move to next line\n"
   ]
  },
  {
   "cell_type": "code",
   "execution_count": null,
   "id": "85b730cc",
   "metadata": {},
   "outputs": [],
   "source": [
    "# Exercise 3: Calculate sum of all numbers from 1 to a given number\n",
    "# Example:\n",
    "\n",
    "# Enter number 10\n",
    "# Sum is: 55\n",
    "\n",
    "# Ask user for input\n",
    "n = int(input(\"Enter number: \"))\n",
    "\n",
    "# Initialize sum\n",
    "total = 0\n",
    "\n",
    "# Loop from 1 to n (inclusive)\n",
    "for i in range(1, n + 1):\n",
    "    total += i\n",
    "\n",
    "# Print the result\n",
    "print(\"Sum is:\", total)\n"
   ]
  },
  {
   "cell_type": "code",
   "execution_count": 6,
   "id": "eaffbc9a",
   "metadata": {},
   "outputs": [
    {
     "name": "stdout",
     "output_type": "stream",
     "text": [
      "1\n",
      "2\n",
      "3\n",
      "4\n",
      "5\n",
      "6\n",
      "7\n",
      "8\n",
      "9\n",
      "10\n"
     ]
    }
   ],
   "source": [
    "# Exercise 4: Print multiplication table of a given number\n",
    "# Example:\n",
    "\n",
    "# 2\n",
    "# 4\n",
    "# 6\n",
    "# 8\n",
    "# 10\n",
    "# 12\n",
    "# 14\n",
    "# 16\n",
    "# 18\n",
    "# 20\n",
    "\n",
    "# Ask user for input\n",
    "num = int(input(\"Enter a number: \"))\n",
    "\n",
    "# Print multiplication table\n",
    "for i in range(1, 11):\n",
    "    print(num * i)\n"
   ]
  },
  {
   "cell_type": "code",
   "execution_count": null,
   "id": "b07fdd6c",
   "metadata": {},
   "outputs": [],
   "source": [
    "# Exercise 5: Display numbers from a list using a loop\n",
    "# Given:\n",
    "\n",
    "# numbers = [12, 75, 150, 180, 145, 525, 50]\n",
    "# Expected Output:\n",
    "\n",
    "# 75\n",
    "# 150\n",
    "# 145\n",
    "\n",
    "numbers = [12, 75, 150, 180, 145, 525, 50]\n",
    "\n",
    "# Loop through the list\n",
    "for num in numbers:\n",
    "    if 70 <= num <= 160:\n",
    "        print(num)"
   ]
  },
  {
   "cell_type": "code",
   "execution_count": 8,
   "id": "8f82b742",
   "metadata": {},
   "outputs": [
    {
     "name": "stdout",
     "output_type": "stream",
     "text": [
      "Total digits: 5\n"
     ]
    }
   ],
   "source": [
    "# Exercise 6: Count the total number of digits in a number\n",
    "# Example:\n",
    "\n",
    "# 75869\n",
    "# Output: 5\n",
    "\n",
    "# Ask user for input\n",
    "num = int(input(\"Enter a number: \"))\n",
    "\n",
    "# Initialize digit count\n",
    "count = 0\n",
    "\n",
    "# Make a copy to handle 0 properly\n",
    "n = num\n",
    "\n",
    "# Loop until the number becomes 0\n",
    "while n > 0:\n",
    "    n //= 10  # Remove last digit\n",
    "    count += 1\n",
    "\n",
    "# Handle the special case for 0\n",
    "if num == 0:\n",
    "    count = 1\n",
    "\n",
    "print(\"Total digits:\", count)\n"
   ]
  },
  {
   "cell_type": "code",
   "execution_count": null,
   "id": "6da77ff4",
   "metadata": {},
   "outputs": [],
   "source": [
    "# Exercise 7: Print reverse number pattern\n",
    "# 5 4 3 2 1\n",
    "# 4 3 2 1\n",
    "# 3 2 1\n",
    "# 2 1\n",
    "# 1\n",
    "\n",
    "# Define the starting number\n",
    "n = 5\n",
    "\n",
    "# Outer loop for rows\n",
    "for i in range(n, 0, -1):\n",
    "    # Inner loop for numbers in each row\n",
    "    for j in range(i, 0, -1):\n",
    "        print(j, end=' ')\n",
    "    print()  # Move to next line\n"
   ]
  },
  {
   "cell_type": "code",
   "execution_count": 9,
   "id": "aa7921ed",
   "metadata": {},
   "outputs": [
    {
     "name": "stdout",
     "output_type": "stream",
     "text": [
      "50\n",
      "40\n",
      "30\n",
      "20\n",
      "10\n"
     ]
    }
   ],
   "source": [
    "# Exercise 8: Print list in reverse order using a loop\n",
    "# Given:\n",
    "\n",
    "# list1 = [10, 20, 30, 40, 50]\n",
    "# Expected Output:\n",
    "\n",
    "# 50\n",
    "# 40\n",
    "# 30\n",
    "# 20\n",
    "# 10\n",
    "\n",
    "list1 = [10, 20, 30, 40, 50]\n",
    "\n",
    "# Loop through the list in reverse order\n",
    "for i in range(len(list1) - 1, -1, -1):\n",
    "    print(list1[i])\n"
   ]
  },
  {
   "cell_type": "code",
   "execution_count": 10,
   "id": "f5171de9",
   "metadata": {},
   "outputs": [
    {
     "name": "stdout",
     "output_type": "stream",
     "text": [
      "-10\n",
      "-9\n",
      "-8\n",
      "-7\n",
      "-6\n",
      "-5\n",
      "-4\n",
      "-3\n",
      "-2\n",
      "-1\n"
     ]
    }
   ],
   "source": [
    "# Exercise 9: Display numbers from -10 to -1 using a for loop\n",
    "# -10\n",
    "# -9\n",
    "# -8\n",
    "# -7\n",
    "# -6\n",
    "# -5\n",
    "# -4\n",
    "# -3\n",
    "# -2\n",
    "# -1\n",
    "\n",
    "# Use range to generate numbers from -10 to -1\n",
    "for i in range(-10, 0):\n",
    "    print(i)\n"
   ]
  },
  {
   "cell_type": "code",
   "execution_count": null,
   "id": "cf37db91",
   "metadata": {},
   "outputs": [],
   "source": [
    "# Exercise 10: Display message “Done” after successful loop execution\n",
    "# Example:\n",
    "\n",
    "# 0\n",
    "# 1\n",
    "# 2\n",
    "# 3\n",
    "# 4\n",
    "# Done!\n",
    "\n",
    "# Loop from 0 to 4\n",
    "for i in range(5):\n",
    "    print(i)\n",
    "else:\n",
    "    print(\"Done!\")\n"
   ]
  },
  {
   "cell_type": "code",
   "execution_count": 11,
   "id": "316ce6ff",
   "metadata": {},
   "outputs": [
    {
     "name": "stdout",
     "output_type": "stream",
     "text": [
      "Prime numbers between 25 and 50 :\n",
      "29\n",
      "31\n",
      "37\n",
      "41\n",
      "43\n",
      "47\n"
     ]
    }
   ],
   "source": [
    "# Exercise 11: Print all prime numbers within a range\n",
    "# Example:\n",
    "\n",
    "# Prime numbers between 25 and 50:\n",
    "# 29\n",
    "# 31\n",
    "# 37\n",
    "# 41\n",
    "# 43\n",
    "# 47\n",
    "\n",
    "# Define range\n",
    "start = 25\n",
    "end = 50\n",
    "\n",
    "print(\"Prime numbers between\", start, \"and\", end, \":\")\n",
    "\n",
    "# Loop through numbers in range\n",
    "for num in range(start, end + 1):\n",
    "    if num > 1:  # Prime numbers are greater than 1\n",
    "        for i in range(2, int(num ** 0.5) + 1):\n",
    "            if num % i == 0:\n",
    "                break\n",
    "        else:\n",
    "            print(num)\n"
   ]
  },
  {
   "cell_type": "code",
   "execution_count": 12,
   "id": "1445152e",
   "metadata": {},
   "outputs": [
    {
     "name": "stdout",
     "output_type": "stream",
     "text": [
      "Fibonacci sequence:\n",
      "0 1 1 2 3 5 8 13 21 34 "
     ]
    }
   ],
   "source": [
    "# Exercise 12: Display Fibonacci series up to 10 terms\n",
    "# Example:\n",
    "\n",
    "# Fibonacci sequence:\n",
    "# 0  1  1  2  3  5  8  13  21  34\n",
    "\n",
    "# Number of terms\n",
    "n = 10\n",
    "\n",
    "# First two terms\n",
    "a, b = 0, 1\n",
    "\n",
    "print(\"Fibonacci sequence:\")\n",
    "\n",
    "# Print Fibonacci sequence up to n terms\n",
    "for _ in range(n):\n",
    "    print(a, end=' ')\n",
    "    a, b = b, a + b\n"
   ]
  },
  {
   "cell_type": "code",
   "execution_count": 13,
   "id": "349087ff",
   "metadata": {},
   "outputs": [
    {
     "name": "stdout",
     "output_type": "stream",
     "text": [
      "2! = 2\n"
     ]
    }
   ],
   "source": [
    "# Exercise 13: Find the factorial of a given number\n",
    "# Example:\n",
    "\n",
    "# 5! = 120\n",
    "\n",
    "# Get input from user\n",
    "num = int(input(\"Enter a number: \"))\n",
    "\n",
    "# Initialize result\n",
    "factorial = 1\n",
    "\n",
    "# Check if the number is 0 or 1\n",
    "if num == 0 or num == 1:\n",
    "    factorial = 1\n",
    "else:\n",
    "    for i in range(2, num + 1):\n",
    "        factorial *= i\n",
    "\n",
    "# Display the result\n",
    "print(f\"{num}! = {factorial}\")\n"
   ]
  },
  {
   "cell_type": "code",
   "execution_count": null,
   "id": "1f1e11e9",
   "metadata": {},
   "outputs": [],
   "source": [
    "# 4. Return Uncommon Elements of Lists\n",
    "# Task\n",
    "# Return the elements that are not common between two lists. The order of elements does not matter.\n",
    "\n",
    "# Examples\n",
    "# Input: list1 = [1, 1, 2], list2 = [2, 3, 4]\n",
    "# Output: [1, 1, 3, 4]\n",
    "\n",
    "# Input: list1 = [1, 2, 3], list2 = [4, 5, 6]\n",
    "# Output: [1, 2, 3, 4, 5, 6]\n",
    "\n",
    "# Input: list1 = [1, 1, 2, 3, 4, 2], list2 = [1, 3, 4, 5]\n",
    "# Output: [2, 2, 5]\n",
    "\n",
    "from collections import Counter\n",
    "\n",
    "def get_uncommon_elements(list1, list2):\n",
    "    # Count occurrences in both lists\n",
    "    c1 = Counter(list1)\n",
    "    c2 = Counter(list2)\n",
    "    \n",
    "    # Elements only in list1\n",
    "    only_in_list1 = c1 - c2\n",
    "    # Elements only in list2\n",
    "    only_in_list2 = c2 - c1\n",
    "    \n",
    "    # Combine both and convert to list\n",
    "    result = list(only_in_list1.elements()) + list(only_in_list2.elements())\n",
    "    return result\n",
    "\n",
    "\n",
    "print(get_uncommon_elements([1, 1, 2], [2, 3, 4]))            # [1, 1, 3, 4]\n",
    "print(get_uncommon_elements([1, 2, 3], [4, 5, 6]))            # [1, 2, 3, 4, 5, 6]\n",
    "print(get_uncommon_elements([1, 1, 2, 3, 4, 2], [1, 3, 4, 5])) # [2, 2, 5]\n",
    "\n"
   ]
  },
  {
   "cell_type": "code",
   "execution_count": null,
   "id": "e8ccbeb7",
   "metadata": {},
   "outputs": [],
   "source": []
  }
 ],
 "metadata": {
  "kernelspec": {
   "display_name": "Python 3",
   "language": "python",
   "name": "python3"
  },
  "language_info": {
   "codemirror_mode": {
    "name": "ipython",
    "version": 3
   },
   "file_extension": ".py",
   "mimetype": "text/x-python",
   "name": "python",
   "nbconvert_exporter": "python",
   "pygments_lexer": "ipython3",
   "version": "3.13.5"
  }
 },
 "nbformat": 4,
 "nbformat_minor": 5
}
