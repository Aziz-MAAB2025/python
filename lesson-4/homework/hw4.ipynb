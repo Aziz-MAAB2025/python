{
 "cells": [
  {
   "cell_type": "code",
   "execution_count": 10,
   "id": "eeb920db",
   "metadata": {},
   "outputs": [
    {
     "name": "stdout",
     "output_type": "stream",
     "text": [
      "Ascending: [2, 5, 7, 10]\n",
      "Descending: [10, 7, 5, 2]\n"
     ]
    }
   ],
   "source": [
    "# Dictionary Exercises\n",
    "# 1. Sort a Dictionary by Value\n",
    "# Write a Python script to sort (ascending and descending) a dictionary by value.\n",
    "\n",
    "my_dict = {10, 2, 5, 7}\n",
    "asc_sorted = sorted(my_dict)\n",
    "asc_sorted\n",
    "\n",
    "desc_sorted = asc_sorted[::-1]\n",
    "desc_sorted\n",
    "\n",
    "# or\n",
    "\n",
    "asc_sorted = sorted(my_dict)\n",
    "print(\"Ascending:\", asc_sorted)\n",
    "\n",
    "desc_sorted = sorted(my_dict, reverse=True)\n",
    "print(\"Descending:\", desc_sorted)"
   ]
  },
  {
   "cell_type": "code",
   "execution_count": 8,
   "id": "d7527f9f",
   "metadata": {},
   "outputs": [
    {
     "data": {
      "text/plain": [
       "{0: 10, 1: 20, 2: 30}"
      ]
     },
     "execution_count": 8,
     "metadata": {},
     "output_type": "execute_result"
    }
   ],
   "source": [
    "# 2. Add a Key to a Dictionary\n",
    "# Write a Python script to add a key to a dictionary.\n",
    "\n",
    "# Sample Dictionary:\n",
    "   #key№0  #key№1\n",
    "# {0: 10, 1: 20}\n",
    "# Expected Result:\n",
    "\n",
    "# {0: 10, 1: 20, 2: 30}\n",
    "\n",
    "my_dict1 = {0: 10, 1: 20}\n",
    "my_dict1[2] = 30\n",
    "my_dict1"
   ]
  },
  {
   "cell_type": "code",
   "execution_count": 14,
   "id": "657fafc3",
   "metadata": {},
   "outputs": [
    {
     "name": "stdout",
     "output_type": "stream",
     "text": [
      "{1: 10, 2: 20, 3: 30, 4: 40, 5: 50, 6: 60}\n"
     ]
    }
   ],
   "source": [
    "# 3. Concatenate Multiple Dictionaries\n",
    "# Write a Python script to concatenate the following dictionaries to create a new one.\n",
    "\n",
    "# Sample Dictionaries:\n",
    "\n",
    "# dic1 = {1: 10, 2: 20}\n",
    "# dic2 = {3: 30, 4: 40}\n",
    "# dic3 = {5: 50, 6: 60}\n",
    "# Expected Result:\n",
    "\n",
    "# {1: 10, 2: 20, 3: 30, 4: 40, 5: 50, 6: 60}\n",
    "\n",
    "dic1 = {1: 10, 2: 20}\n",
    "dic2 = {3: 30, 4: 40}\n",
    "dic3 = {5: 50, 6: 60}\n",
    "\n",
    "# merged_dict = {}\n",
    "\n",
    "# for d in (dic1, dic2, dic3):\n",
    "#     merged_dict.update(d)\n",
    "\n",
    "# print(merged_dict)\n",
    "\n",
    "# OR\n",
    "\n",
    "merged_dict = dic1 | dic2 | dic3\n",
    "print(merged_dict)"
   ]
  },
  {
   "cell_type": "code",
   "execution_count": 15,
   "id": "b9a05764",
   "metadata": {},
   "outputs": [
    {
     "name": "stdout",
     "output_type": "stream",
     "text": [
      "{1: 1, 2: 4, 3: 9, 4: 16, 5: 25}\n"
     ]
    }
   ],
   "source": [
    "# 4. Generate a Dictionary with Squares\n",
    "# Write a Python script to generate and print a dictionary that contains a number (between 1 and n) in the form (x, x*x).\n",
    "\n",
    "# Sample Dictionary (n = 5):\n",
    "\n",
    "# {1: 1, 2: 4, 3: 9, 4: 16, 5: 25}\n",
    "\n",
    "# Define the range limit\n",
    "n = 5\n",
    "\n",
    "# Generate the dictionary\n",
    "squares_dict = {x: x * x for x in range(1, n + 1)}\n",
    "\n",
    "# Print the dictionary\n",
    "print(squares_dict)"
   ]
  },
  {
   "cell_type": "code",
   "execution_count": 16,
   "id": "18dacd86",
   "metadata": {},
   "outputs": [
    {
     "name": "stdout",
     "output_type": "stream",
     "text": [
      "{1: 1, 2: 4, 3: 9, 4: 16, 5: 25, 6: 36, 7: 49, 8: 64, 9: 81, 10: 100, 11: 121, 12: 144, 13: 169, 14: 196, 15: 225}\n"
     ]
    }
   ],
   "source": [
    "# 5. Dictionary of Squares (1 to 15)\n",
    "# Write a Python script to print a dictionary where the keys are numbers between 1 and 15 (both included) and the values are the square of the keys.\n",
    "\n",
    "# Expected Output:\n",
    "\n",
    "# {1: 1, 2: 4, 3: 9, 4: 16, 5: 25, 6: 36, 7: 49, 8: 64, 9: 81, 10: 100, 11: 121, 12: 144, 13: 169, 14: 196, 15: 225}\n",
    "\n",
    "# Generate dictionary from 1 to 15 with squares\n",
    "squares_dict = {x: x**2 for x in range(1, 16)}\n",
    "\n",
    "# Print the dictionary\n",
    "print(squares_dict)\n"
   ]
  },
  {
   "cell_type": "code",
   "execution_count": 22,
   "id": "4a418583",
   "metadata": {},
   "outputs": [
    {
     "name": "stdout",
     "output_type": "stream",
     "text": [
      "{1, 2, 3, 4, 5}\n",
      "{1, 2, 3, 4, 5}\n"
     ]
    }
   ],
   "source": [
    "# Set Exercises\n",
    "# 1. Create a Set\n",
    "# Write a Python program to create a set.\n",
    "\n",
    "my_list = []\n",
    "# print(id(my_list))\n",
    "\n",
    "type_my_list = type(my_list)\n",
    "type_my_list\n",
    "\n",
    "# Create a set with some sample values\n",
    "my_set = {1, 2, 3, 4, 5}\n",
    "\n",
    "# Print the set\n",
    "print(my_set)\n",
    "\n",
    "my_set = set([1, 2, 3, 4, 5])\n",
    "print(my_set)"
   ]
  },
  {
   "cell_type": "code",
   "execution_count": 23,
   "id": "8fbe302e",
   "metadata": {},
   "outputs": [
    {
     "name": "stdout",
     "output_type": "stream",
     "text": [
      "apple\n",
      "cherry\n",
      "banana\n"
     ]
    }
   ],
   "source": [
    "# 2. Iterate Over a Set\n",
    "# Write a Python program to iterate over sets.\n",
    "\n",
    "# Define a set\n",
    "my_set = {'apple', 'banana', 'cherry'}\n",
    "\n",
    "# Iterate over the set\n",
    "for item in my_set:\n",
    "    print(item)"
   ]
  },
  {
   "cell_type": "code",
   "execution_count": 28,
   "id": "0f5e2e7e",
   "metadata": {},
   "outputs": [
    {
     "name": "stdout",
     "output_type": "stream",
     "text": [
      "{1, 2, 3, 4, 5, 6, 7}\n"
     ]
    },
    {
     "data": {
      "text/plain": [
       "{1, 10, 11, 12, 17, 18, 2, 3, 8, 'a'}"
      ]
     },
     "execution_count": 28,
     "metadata": {},
     "output_type": "execute_result"
    }
   ],
   "source": [
    "# 3. Add Member(s) to a Set\n",
    "# Write a Python program to add member(s) to a set.\n",
    "\n",
    "my_set = {1, 2, 3}\n",
    "# Add a single element\n",
    "my_set.add(4)\n",
    "my_set\n",
    "\n",
    "# Add multiple elements\n",
    "my_set.update([5,6,7])\n",
    "print(my_set)\n",
    "\n",
    "# Add other elements\n",
    "newset = set()\n",
    "newset.update((1, 2, 3, 10, 12, 18))\n",
    "\n",
    "newset.add(8)\n",
    "newset.add(11)\n",
    "newset.add(17)\n",
    "newset.add('a')\n",
    "\n",
    "newset\n"
   ]
  },
  {
   "cell_type": "code",
   "execution_count": 36,
   "id": "7b9265ae",
   "metadata": {},
   "outputs": [
    {
     "name": "stdout",
     "output_type": "stream",
     "text": [
      "Updated Set: {20, 40, 10, 30}\n",
      "Popped Item: 50\n"
     ]
    }
   ],
   "source": [
    "# 4. Remove Item(s) from a Set\n",
    "# Write a Python program to remove item(s) from a given set.\n",
    "\n",
    "newset = {1, 3, 2, 0, 9, 8}\n",
    "newset.pop()\n",
    "newset\n",
    "\n",
    "\n",
    "# Initial set\n",
    "my_set = {10, 20, 30, 40, 50}\n",
    "\n",
    "# Remove a specific item using remove() (raises error if item not found)\n",
    "# my_set.remove(30)\n",
    "# my_set\n",
    "\n",
    "# Remove a specific item using discard() (does NOT raise error if item not found)\n",
    "my_set.discard(100)  # No error\n",
    "my_set\n",
    "\n",
    "# Remove an arbitrary item using pop()\n",
    "removed_item = my_set.pop()\n",
    "removed_item\n",
    "\n",
    "# Print the updated set and the popped item\n",
    "print(\"Updated Set:\", my_set)\n",
    "print(\"Popped Item:\", removed_item)"
   ]
  },
  {
   "cell_type": "code",
   "execution_count": 38,
   "id": "2d753fd7",
   "metadata": {},
   "outputs": [
    {
     "name": "stdout",
     "output_type": "stream",
     "text": [
      "4 was removed.\n",
      "Updated Set: {1, 2, 3, 5}\n"
     ]
    }
   ],
   "source": [
    "# 5. Remove an Item if Present in the Set\n",
    "# Write a Python program to remove an item from a set if it is present in the set.\n",
    "\n",
    "# Initial set\n",
    "my_set = {1, 2, 3, 4, 5}\n",
    "\n",
    "# Item to remove\n",
    "item_to_remove = 4\n",
    "\n",
    "# Check if item exists before removing\n",
    "if item_to_remove in my_set:\n",
    "    my_set.remove(item_to_remove)\n",
    "    print(f\"{item_to_remove} was removed.\")\n",
    "else:\n",
    "    print(f\"{item_to_remove} is not in the set.\")\n",
    "\n",
    "# Print the updated set\n",
    "print(\"Updated Set:\", my_set)\n"
   ]
  },
  {
   "cell_type": "code",
   "execution_count": null,
   "id": "bd46827b",
   "metadata": {},
   "outputs": [],
   "source": []
  }
 ],
 "metadata": {
  "kernelspec": {
   "display_name": "Python 3",
   "language": "python",
   "name": "python3"
  },
  "language_info": {
   "codemirror_mode": {
    "name": "ipython",
    "version": 3
   },
   "file_extension": ".py",
   "mimetype": "text/x-python",
   "name": "python",
   "nbconvert_exporter": "python",
   "pygments_lexer": "ipython3",
   "version": "3.13.5"
  }
 },
 "nbformat": 4,
 "nbformat_minor": 5
}
