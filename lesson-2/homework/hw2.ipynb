{
 "cells": [
  {
   "cell_type": "code",
   "execution_count": null,
   "id": "37cc8c0d",
   "metadata": {},
   "outputs": [],
   "source": [
    "## 1. Age Calculator\n",
    "## Write a Python program to ask for a user's name and year of birth, then calculate and display their age.\n",
    "# Ask for name and year of birth\n",
    "name=input(\"Enter your name:\")\n",
    "year_of_birth=int(input(enter your year of birth:))\n",
    "# Get the current year\n",
    "current_year = datetime.now().year\n",
    "\n",
    "# Calculate age\n",
    "age = current_year - year_of_birth\n",
    "\n",
    "# Display result\n",
    "print(f\"Hello, {name}! You are {age} years old.\")\n",
    "\n",
    "#Output:\n",
    "\n",
    "#Enter your name: Alice\n",
    "#Enter your year of birth: 2000\n",
    "#Hello, Alice! You are 25 years old."
   ]
  },
  {
   "cell_type": "code",
   "execution_count": null,
   "id": "2677a64e",
   "metadata": {},
   "outputs": [
    {
     "data": {
      "text/plain": [
       "'Lasetti'"
      ]
     },
     "execution_count": 16,
     "metadata": {},
     "output_type": "execute_result"
    }
   ],
   "source": [
    "#2. Extract Car Names\n",
    "#Extract car names from the following text:\n",
    "      #0123456789 \n",
    "txt = 'LMaasleitbtui'\n",
    "txt[1::2]\n",
    "txt[0::2]\n"
   ]
  },
  {
   "cell_type": "code",
   "execution_count": null,
   "id": "34a5bdd5",
   "metadata": {},
   "outputs": [
    {
     "data": {
      "text/plain": [
       "'Matiz'"
      ]
     },
     "execution_count": 17,
     "metadata": {},
     "output_type": "execute_result"
    }
   ],
   "source": [
    "# 3. Extract Car Names\n",
    "# Extract car names from the following text:\n",
    "# txt = 'MsaatmiazD'\n",
    "    #  0123456789\n",
    "txt = 'MsaatmiazD'\n",
    "txt[0::2]\n"
   ]
  },
  {
   "cell_type": "code",
   "execution_count": 24,
   "id": "ffeb46b9",
   "metadata": {},
   "outputs": [
    {
     "name": "stdout",
     "output_type": "stream",
     "text": [
      "Residence area extracted: London\n"
     ]
    }
   ],
   "source": [
    "# 4. Extract Residence Area\n",
    "# Extract the residence area from the following text:\n",
    "# txt = \"I'am John. I am from London\"\n",
    "txt = \"I'am John. I am from London\"\n",
    "txt.split(' ')[-1]\n",
    "txt[-6:]\n",
    "\n",
    "#yoki\n",
    "\n",
    "txt3 = \"I'am John. I am from London\"\n",
    "residence = txt3.split(\"from\")[-1].strip()\n",
    "print(\"Residence area extracted:\", residence)\n"
   ]
  },
  {
   "cell_type": "code",
   "execution_count": 4,
   "id": "5702b380",
   "metadata": {},
   "outputs": [
    {
     "data": {
      "text/plain": [
       "'DLROW OLLEH'"
      ]
     },
     "execution_count": 4,
     "metadata": {},
     "output_type": "execute_result"
    }
   ],
   "source": [
    "# 5. Reverse String\n",
    "# Write a Python program that takes a user input string and prints it in reverse order.\n",
    "user_input = \"HELLO WORLD\"\n",
    "reversed_string = user_input[::-1]\n",
    "user_input\n",
    "reversed_string"
   ]
  },
  {
   "cell_type": "code",
   "execution_count": 28,
   "id": "ff697b22",
   "metadata": {},
   "outputs": [
    {
     "name": "stdout",
     "output_type": "stream",
     "text": [
      "4\n"
     ]
    }
   ],
   "source": [
    "# 6. Count Vowels\n",
    "# Write a Python program that counts the number of vowels in a given string.\n",
    "# Define the vowels\n",
    "vowels = \"aeiouAEIOU\"\n",
    "user_input1 = \"Hello vowels\"\n",
    "print(user_input1.count('a')+user_input1.count('e')+user_input1.count('i')+user_input1.count('o')+user_input1.count('u'))\n"
   ]
  },
  {
   "cell_type": "code",
   "execution_count": 32,
   "id": "cde045f4",
   "metadata": {},
   "outputs": [
    {
     "data": {
      "text/plain": [
       "9"
      ]
     },
     "execution_count": 32,
     "metadata": {},
     "output_type": "execute_result"
    }
   ],
   "source": [
    "# 7. Find Maximum Value\n",
    "# Write a Python program that takes a list of numbers as input and prints the maximum value.\n",
    "numbers = 0, 1, 2, 3, 4, 5, 6, 7, 8, 9\n",
    "max_value = max(numbers)\n",
    "max_value"
   ]
  },
  {
   "cell_type": "code",
   "execution_count": null,
   "id": "60a29e7d",
   "metadata": {},
   "outputs": [
    {
     "data": {
      "text/plain": [
       "'radar'"
      ]
     },
     "execution_count": 34,
     "metadata": {},
     "output_type": "execute_result"
    }
   ],
   "source": [
    "# 8. Check Palindrome\n",
    "# Write a Python program that checks if a given word is a palindrome (reads the same forward and backward).\n",
    "word = input(\"Enter a word: \") ### radar\n",
    "reversed_word = word[::-1]\n",
    "reversed_word"
   ]
  },
  {
   "cell_type": "code",
   "execution_count": 42,
   "id": "93e313d2",
   "metadata": {},
   "outputs": [
    {
     "data": {
      "text/plain": [
       "'example.com'"
      ]
     },
     "execution_count": 42,
     "metadata": {},
     "output_type": "execute_result"
    }
   ],
   "source": [
    "# 9. Extract Email Domain\n",
    "# Write a Python program that extracts and prints the domain from an email address provided by the user.\n",
    "email = 'user@example.com'\n",
    "Email_domain = email[-11:]\n",
    "Email_domain"
   ]
  },
  {
   "cell_type": "code",
   "execution_count": null,
   "id": "49f9259c",
   "metadata": {},
   "outputs": [],
   "source": [
    "# 10. Generate Random Password\n",
    "# Write a Python program to generate a random password containing letters, digits, and special characters."
   ]
  }
 ],
 "metadata": {
  "kernelspec": {
   "display_name": "Python 3",
   "language": "python",
   "name": "python3"
  },
  "language_info": {
   "codemirror_mode": {
    "name": "ipython",
    "version": 3
   },
   "file_extension": ".py",
   "mimetype": "text/x-python",
   "name": "python",
   "nbconvert_exporter": "python",
   "pygments_lexer": "ipython3",
   "version": "3.13.5"
  }
 },
 "nbformat": 4,
 "nbformat_minor": 5
}
