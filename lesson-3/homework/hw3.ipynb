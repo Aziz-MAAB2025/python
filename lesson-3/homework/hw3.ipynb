{
 "cells": [
  {
   "cell_type": "code",
   "execution_count": 1,
   "id": "a106c745",
   "metadata": {},
   "outputs": [
    {
     "name": "stdout",
     "output_type": "stream",
     "text": [
      "The third fruit is: cherry\n"
     ]
    }
   ],
   "source": [
    "# 1. Create and Access List Elements\n",
    "# Create a list containing five different fruits and print the third fruit.\n",
    "# Create a list of fruits\n",
    "fruits = [\"apple\", \"banana\", \"cherry\", \"orange\", \"mango\"]\n",
    "# Print the third fruit (index 2, since indexing starts at 0)\n",
    "print(\"The third fruit is:\", fruits[2])"
   ]
  },
  {
   "cell_type": "code",
   "execution_count": 2,
   "id": "3ec2151f",
   "metadata": {},
   "outputs": [
    {
     "name": "stdout",
     "output_type": "stream",
     "text": [
      "Concatenated list: [1, 2, 3, 4, 5, 6]\n"
     ]
    }
   ],
   "source": [
    "# 2. Concatenate Two Lists\n",
    "# Create two lists of numbers and concatenate them into a single list.\n",
    "# Create two lists\n",
    "list1 = [1, 2, 3]\n",
    "list2 = [4, 5, 6]\n",
    "\n",
    "# Concatenate the lists\n",
    "combined_list = list1 + list2\n",
    "\n",
    "# Print the result\n",
    "print(\"Concatenated list:\", combined_list)"
   ]
  },
  {
   "cell_type": "code",
   "execution_count": 3,
   "id": "277dc501",
   "metadata": {},
   "outputs": [
    {
     "name": "stdout",
     "output_type": "stream",
     "text": [
      "Extracted elements: [10, 30, 50]\n"
     ]
    }
   ],
   "source": [
    "# 3. Extract Elements from a List\n",
    "# Given a list of numbers, extract the first, middle, and last elements and store them in a new list.\n",
    "\n",
    "# Given list of numbers\n",
    "numbers = [10, 20, 30, 40, 50]\n",
    "\n",
    "# Get indices\n",
    "first = numbers[0]\n",
    "middle = numbers[len(numbers) // 2]\n",
    "last = numbers[-1]\n",
    "\n",
    "# Store in a new list\n",
    "extracted = [first, middle, last]\n",
    "\n",
    "print(\"Extracted elements:\", extracted)"
   ]
  },
  {
   "cell_type": "code",
   "execution_count": 5,
   "id": "d9b312c2",
   "metadata": {},
   "outputs": [
    {
     "name": "stdout",
     "output_type": "stream",
     "text": [
      "Movies as a tuple: ('Inception', 'The Matrix', 'Interstellar', 'The Dark Knight', 'Parasite')\n"
     ]
    }
   ],
   "source": [
    "# 4. Convert List to Tuple\n",
    "# Create a list of your five favorite movies and convert it into a tuple.\n",
    "\n",
    "# Create a list of favorite movies\n",
    "movies = [\"Inception\", \"The Matrix\", \"Interstellar\", \"The Dark Knight\", \"Parasite\"]\n",
    "\n",
    "# Convert the list to a tuple\n",
    "movies_tuple = tuple(movies)\n",
    "\n",
    "# Print the tuple\n",
    "print(\"Movies as a tuple:\", movies_tuple)"
   ]
  },
  {
   "cell_type": "code",
   "execution_count": 6,
   "id": "74aa46f8",
   "metadata": {},
   "outputs": [
    {
     "name": "stdout",
     "output_type": "stream",
     "text": [
      "Paris is in the list.\n"
     ]
    }
   ],
   "source": [
    "# 5. Check Element in a List\n",
    "# Given a list of cities, check if \"Paris\" is in the list and print the result.\n",
    "\n",
    "# Given list of cities\n",
    "cities = [\"New York\", \"London\", \"Tokyo\", \"Paris\", \"Sydney\"]\n",
    "\n",
    "# Check if \"Paris\" is in the list\n",
    "if \"Paris\" in cities:\n",
    "    print(\"Paris is in the list.\")\n",
    "else:\n",
    "    print(\"Paris is not in the list.\")"
   ]
  },
  {
   "cell_type": "code",
   "execution_count": 7,
   "id": "55650bdd",
   "metadata": {},
   "outputs": [
    {
     "name": "stdout",
     "output_type": "stream",
     "text": [
      "Duplicated list: [1, 2, 3, 4, 5, 1, 2, 3, 4, 5]\n"
     ]
    }
   ],
   "source": [
    "# 6. Duplicate a List Without Using Loops\n",
    "# Create a list of numbers and duplicate it without using loops.\n",
    "\n",
    "# Create a list of numbers\n",
    "numbers = [1, 2, 3, 4, 5]\n",
    "\n",
    "# Duplicate the list by concatenation\n",
    "duplicated = numbers * 2\n",
    "\n",
    "# Print the duplicated list\n",
    "print(\"Duplicated list:\", duplicated)"
   ]
  },
  {
   "cell_type": "code",
   "execution_count": 8,
   "id": "6ea16ae8",
   "metadata": {},
   "outputs": [
    {
     "name": "stdout",
     "output_type": "stream",
     "text": [
      "List after swapping: [50, 20, 30, 40, 10]\n"
     ]
    }
   ],
   "source": [
    "# 7. Swap First and Last Elements of a List\n",
    "# Given a list of numbers, swap the first and last elements.\n",
    "\n",
    "# Given list of numbers\n",
    "numbers1 = [10, 20, 30, 40, 50]\n",
    "\n",
    "# Swap first and last elements\n",
    "numbers1[0], numbers1[-1] = numbers1[-1], numbers1[0]\n",
    "\n",
    "# Print the modified list\n",
    "print(\"List after swapping:\", numbers1)\n",
    "\n"
   ]
  },
  {
   "cell_type": "code",
   "execution_count": 9,
   "id": "72f46d26",
   "metadata": {},
   "outputs": [
    {
     "name": "stdout",
     "output_type": "stream",
     "text": [
      "Sliced tuple (index 3 to 7): (4, 5, 6, 7, 8)\n"
     ]
    }
   ],
   "source": [
    "# 8. Slice a Tuple\n",
    "# Create a tuple of numbers from 1 to 10 and print a slice from index 3 to 7.\n",
    "\n",
    "# Create a tuple of numbers from 1 to 10\n",
    "numbers = (1, 2, 3, 4, 5, 6, 7, 8, 9, 10)\n",
    "\n",
    "# Slice from index 3 to 7 (note: end index is exclusive)\n",
    "slice_tuple = numbers[3:8]\n",
    "\n",
    "# Print the sliced tuple\n",
    "print(\"Sliced tuple (index 3 to 7):\", slice_tuple)"
   ]
  },
  {
   "cell_type": "code",
   "execution_count": 10,
   "id": "fcb228f9",
   "metadata": {},
   "outputs": [
    {
     "name": "stdout",
     "output_type": "stream",
     "text": [
      "The color 'blue' appears 3 times in the list.\n"
     ]
    }
   ],
   "source": [
    "# 9. Count Occurrences in a List\n",
    "# Create a list of colors and count how many times \"blue\" appears in the list.\n",
    "\n",
    "# Create a list of colors\n",
    "colors = [\"red\", \"blue\", \"green\", \"blue\", \"yellow\", \"blue\"]\n",
    "\n",
    "# Count occurrences of \"blue\"\n",
    "blue_count = colors.count(\"blue\")\n",
    "\n",
    "# Print the result\n",
    "print(\"The color 'blue' appears\", blue_count, \"times in the list.\")"
   ]
  },
  {
   "cell_type": "code",
   "execution_count": 11,
   "id": "60043568",
   "metadata": {},
   "outputs": [
    {
     "name": "stdout",
     "output_type": "stream",
     "text": [
      "The index of 'lion' is: 2\n"
     ]
    }
   ],
   "source": [
    "# 10. Find the Index of an Element in a Tuple\n",
    "# Given a tuple of animals, find the index of \"lion\".\n",
    "\n",
    "# Given tuple of animals\n",
    "animals = (\"tiger\", \"elephant\", \"lion\", \"giraffe\", \"zebra\")\n",
    "\n",
    "# Find the index of \"lion\"\n",
    "lion_index = animals.index(\"lion\")\n",
    "\n",
    "# Print the index\n",
    "print(\"The index of 'lion' is:\", lion_index)"
   ]
  },
  {
   "cell_type": "code",
   "execution_count": 12,
   "id": "95141d30",
   "metadata": {},
   "outputs": [
    {
     "name": "stdout",
     "output_type": "stream",
     "text": [
      "Merged tuple: (1, 2, 3, 4, 5, 6)\n"
     ]
    }
   ],
   "source": [
    "# 11. Merge Two Tuples\n",
    "# Create two tuples of numbers and merge them into a single tuple.\n",
    "\n",
    "# Create two tuples of numbers\n",
    "tuple1 = (1, 2, 3)\n",
    "tuple2 = (4, 5, 6)\n",
    "\n",
    "# Merge the tuples\n",
    "merged_tuple = tuple1 + tuple2\n",
    "\n",
    "# Print the merged tuple\n",
    "print(\"Merged tuple:\", merged_tuple)"
   ]
  },
  {
   "cell_type": "code",
   "execution_count": 13,
   "id": "0c36f267",
   "metadata": {},
   "outputs": [
    {
     "name": "stdout",
     "output_type": "stream",
     "text": [
      "Length of the list: 5\n",
      "Length of the tuple: 6\n"
     ]
    }
   ],
   "source": [
    "\n",
    "# 12. Find the Length of a List and Tuple\n",
    "# Given a list and a tuple, find and print their lengths.\n",
    "\n",
    "# Given list and tuple\n",
    "my_list = [10, 20, 30, 40, 50]\n",
    "my_tuple = (1, 2, 3, 4, 5, 6)\n",
    "\n",
    "# Find their lengths\n",
    "list_length = len(my_list)\n",
    "tuple_length = len(my_tuple)\n",
    "\n",
    "# Print the lengths\n",
    "print(\"Length of the list:\", list_length)\n",
    "print(\"Length of the tuple:\", tuple_length)"
   ]
  },
  {
   "cell_type": "code",
   "execution_count": null,
   "id": "88531f37",
   "metadata": {},
   "outputs": [
    {
     "name": "stdout",
     "output_type": "stream",
     "text": [
      "Converted list: [10, 20, 30, 40, 50]\n"
     ]
    }
   ],
   "source": [
    "# 13. Convert Tuple to List\n",
    "# Create a tuple of five numbers and convert it into a list.\n",
    "\n",
    "# Create a tuple of five numbers\n",
    "numbers_tuple = (10, 20, 30, 40, 50)\n",
    "\n",
    "# Convert the tuple to a list\n",
    "numbers_list = list(numbers_tuple)\n",
    "\n",
    "# Print the list\n",
    "print(\"Converted list:\", numbers_list)\n"
   ]
  },
  {
   "cell_type": "code",
   "execution_count": 15,
   "id": "62bcac94",
   "metadata": {},
   "outputs": [
    {
     "name": "stdout",
     "output_type": "stream",
     "text": [
      "Maximum value: 45\n",
      "Minimum value: 5\n"
     ]
    }
   ],
   "source": [
    "# 14. Find Maximum and Minimum in a Tuple\n",
    "# Given a tuple of numbers, find and print the maximum and minimum values.\n",
    "\n",
    "# Given tuple of numbers\n",
    "numbers = (25, 10, 45, 30, 5)\n",
    "\n",
    "# Find maximum and minimum\n",
    "max_value = max(numbers)\n",
    "min_value = min(numbers)\n",
    "\n",
    "# Print the results\n",
    "print(\"Maximum value:\", max_value)\n",
    "print(\"Minimum value:\", min_value)"
   ]
  },
  {
   "cell_type": "code",
   "execution_count": null,
   "id": "2882969b",
   "metadata": {},
   "outputs": [],
   "source": [
    "# 15. Reverse a Tuple\n",
    "# Create a tuple of words and print it in reverse order.\n",
    "\n",
    "# Create a tuple of words\n",
    "words = (\"apple\", \"banana\", \"cherry\", \"date\")\n",
    "\n",
    "# Reverse the tuple\n",
    "reversed_words = words[::-1]\n",
    "\n",
    "# Print the reversed tuple\n",
    "print(\"Reversed tuple:\", reversed_words)"
   ]
  }
 ],
 "metadata": {
  "kernelspec": {
   "display_name": "Python 3",
   "language": "python",
   "name": "python3"
  },
  "language_info": {
   "codemirror_mode": {
    "name": "ipython",
    "version": 3
   },
   "file_extension": ".py",
   "mimetype": "text/x-python",
   "name": "python",
   "nbconvert_exporter": "python",
   "pygments_lexer": "ipython3",
   "version": "3.13.5"
  }
 },
 "nbformat": 4,
 "nbformat_minor": 5
}
