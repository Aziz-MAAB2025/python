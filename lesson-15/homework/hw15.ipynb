{
 "cells": [
  {
   "cell_type": "code",
   "execution_count": null,
   "id": "480d9411",
   "metadata": {},
   "outputs": [],
   "source": [
    "# Create a new database with a table named Roster that has three fields: Name, Species, and Age. The Name and Species columns should be text fields, \n",
    "# and the Age column should be an integer field."
   ]
  },
  {
   "cell_type": "code",
   "execution_count": null,
   "id": "974e79a0",
   "metadata": {},
   "outputs": [],
   "source": [
    "import sqlite3\n",
    "\n",
    "# Connect to database (creates a new one if it doesn’t exist)\n",
    "conn = sqlite3.connect(\"zoo.db\")\n",
    "cursor = conn.cursor()\n",
    "\n",
    "# Create Roster table\n",
    "cursor.execute(\"\"\"\n",
    "CREATE TABLE IF NOT EXISTS Roster (\n",
    "    Name TEXT,\n",
    "    Species TEXT,\n",
    "    Age INTEGER\n",
    ")\n",
    "\"\"\")\n",
    "\n",
    "print(\"✅ Database and Roster table created successfully.\")\n",
    "\n",
    "# Save and close connection\n",
    "conn.commit()\n",
    "conn.close()\n"
   ]
  },
  {
   "cell_type": "code",
   "execution_count": null,
   "id": "ae253dea",
   "metadata": {},
   "outputs": [],
   "source": [
    "import sqlite3\n",
    "\n",
    "# Bazaga ulanamiz\n",
    "conn = sqlite3.connect(\"zoo.db\")\n",
    "cursor = conn.cursor()\n",
    "\n",
    "# Ma'lumotlarni qo‘shamiz\n",
    "roster_data = [\n",
    "    (\"Benjamin Sisko\", \"Human\", 40),\n",
    "    (\"Jadzia Dax\", \"Trill\", 300),\n",
    "    (\"Kira Nerys\", \"Bajoran\", 29)\n",
    "]\n",
    "\n",
    "cursor.executemany(\"INSERT INTO Roster (Name, Species, Age) VALUES (?, ?, ?)\", roster_data)\n",
    "\n",
    "# O'zgarishlarni saqlash\n",
    "conn.commit()\n",
    "\n",
    "print(\"✅ Ma'lumotlar Roster jadvaliga qo'shildi.\")\n",
    "\n",
    "# Qo‘shilgan qiymatlarni ko‘rib chiqamiz\n",
    "cursor.execute(\"SELECT * FROM Ros*\n"
   ]
  },
  {
   "cell_type": "code",
   "execution_count": null,
   "id": "20b3cfaf",
   "metadata": {},
   "outputs": [],
   "source": [
    "# Update the Name of Jadzia Dax to be Ezri Dax"
   ]
  },
  {
   "cell_type": "code",
   "execution_count": null,
   "id": "5bd4f8a1",
   "metadata": {},
   "outputs": [],
   "source": [
    "import sqlite3\n",
    "\n",
    "# Bazaga ulanamiz\n",
    "conn = sqlite3.connect(\"zoo.db\")\n",
    "cursor = conn.cursor()\n",
    "\n",
    "# Jadzia Dax ismiga ega yozuvni Ezri Dax ga yangilash\n",
    "cursor.execute(\"\"\"\n",
    "UPDATE Roster\n",
    "SET Name = ?\n",
    "WHERE Name = ?\n",
    "\"\"\", (\"Ezri Dax\", \"Jadzia Dax\"))\n",
    "\n",
    "conn.commit()\n",
    "print(\"✅ Ism yangilandi: Jadzia Dax → Ezri Dax\")\n",
    "\n",
    "# Jadvaldagi natijalarni ko‘ramiz\n",
    "cursor.execute(\"SELECT * FROM Roster\")\n",
    "rows = cursor.fetchall()\n",
    "\n",
    "print(\"\\n📋 Roster jadvalidagi yangilangan qiymatlar:\")\n",
    "for row in rows:\n",
    "    print(row)\n",
    "\n",
    "conn.close()\n"
   ]
  },
  {
   "cell_type": "code",
   "execution_count": null,
   "id": "3eda4c91",
   "metadata": {},
   "outputs": [],
   "source": [
    "# Display the Name and Age of everyone in the table classified as Bajoran."
   ]
  },
  {
   "cell_type": "code",
   "execution_count": null,
   "id": "2ddd82d6",
   "metadata": {},
   "outputs": [],
   "source": [
    "import sqlite3\n",
    "\n",
    "# Bazaga ulanamiz\n",
    "conn = sqlite3.connect(\"zoo.db\")\n",
    "cursor = conn.cursor()\n",
    "\n",
    "# Faqat Bajoranlarni olish (Name va Age ustunlari bilan)\n",
    "cursor.execute(\"\"\"\n",
    "SELECT Name, Age\n",
    "FROM Roster\n",
    "WHERE Species = 'Bajoran'\n",
    "\"\"\")\n",
    "\n",
    "rows = cursor.fetchall()\n",
    "\n",
    "print(\"📋 Bajoranlar:\")\n",
    "for row in rows:\n",
    "    print(f\"Name: {row[0]}, Age: {row[1]}\")\n",
    "\n",
    "conn.close()\n"
   ]
  },
  {
   "cell_type": "code",
   "execution_count": null,
   "id": "6a72e9ad",
   "metadata": {},
   "outputs": [],
   "source": [
    "📋 Bajoranlar:\n",
    "Name: Kira Nerys, Age: 29\n"
   ]
  }
 ],
 "metadata": {
  "language_info": {
   "name": "python"
  }
 },
 "nbformat": 4,
 "nbformat_minor": 5
}
