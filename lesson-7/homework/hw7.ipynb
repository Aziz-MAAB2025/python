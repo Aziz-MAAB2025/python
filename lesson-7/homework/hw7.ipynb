{
 "cells": [
  {
   "cell_type": "code",
   "execution_count": 1,
   "id": "3c26c685",
   "metadata": {},
   "outputs": [
    {
     "name": "stdout",
     "output_type": "stream",
     "text": [
      "False\n",
      "True\n",
      "False\n",
      "True\n",
      "True\n"
     ]
    }
   ],
   "source": [
    "# Problems\n",
    "# 1. is_prime(n) funksiyasi\n",
    "# is_prime(n) funksiyasini hosil qiling (n > 0). Agar n soni tub bo'lsa True, aks holda False qiymat qaytarsin.\n",
    "\n",
    "# Misollar:\n",
    "# Kiritish:\n",
    "# 4\n",
    "# Natija:\n",
    "# False\n",
    "# (Izoh: 4 soni tub emas, chunki u 2 ga bo'linadi.)\n",
    "\n",
    "# Kiritish:\n",
    "# 7\n",
    "# Natija:\n",
    "# True\n",
    "# (Izoh: 7 soni faqat 1 va o'ziga bo'linadi, ya'ni tub son.)\n",
    "\n",
    "def is_prime(n):\n",
    "    if n <= 1:\n",
    "        return False  # 0 va 1 tub emas\n",
    "    for i in range(2, int(n**0.5) + 1):  # faqat √n gacha tekshirish kifoya\n",
    "        if n % i == 0:\n",
    "            return False\n",
    "    return True\n",
    "\n",
    "print(is_prime(4))  # False\n",
    "print(is_prime(7))  # True\n",
    "print(is_prime(1))  # False\n",
    "print(is_prime(2))  # True\n",
    "print(is_prime(13)) # True\n",
    "\n",
    "\n"
   ]
  },
  {
   "cell_type": "code",
   "execution_count": null,
   "id": "5f5c684d",
   "metadata": {},
   "outputs": [],
   "source": [
    "# 2. digit_sum(k) funksiyasi\n",
    "# digit_sum(k) funksiyasini yozing, u k sonining raqamlari yig'indisini hisoblaydi.\n",
    "\n",
    "# Misollar:\n",
    "# Kiritish:\n",
    "# 24\n",
    "# Natija:\n",
    "# 6\n",
    "# (Izoh: 24 sonining raqamlari yig'indisi: 2 + 4 = 6.)\n",
    "\n",
    "# Kiritish:\n",
    "# 502\n",
    "# Natija:\n",
    "# 7\n",
    "# (Izoh: 502 sonining raqamlari yig'indisi: 5 + 0 + 2 = 7.)\n",
    "\n",
    "\n",
    "def digit_sum(k):\n",
    "    total = 0\n",
    "    while k > 0:\n",
    "        total += k % 10  # oxirgi raqamni qo‘shamiz\n",
    "        k //= 10         # raqamni qisqartiramiz\n",
    "    return total\n",
    "print(digit_sum(24))   # 6  → 2 + 4\n",
    "print(digit_sum(502))  # 7  → 5 + 0 + 2\n",
    "print(digit_sum(1234)) # 10 → 1 + 2 + 3 + 4"
   ]
  },
  {
   "cell_type": "code",
   "execution_count": 4,
   "id": "aac95ed4",
   "metadata": {},
   "outputs": [
    {
     "name": "stdout",
     "output_type": "stream",
     "text": [
      "6\n"
     ]
    }
   ],
   "source": [
    "def digit_sum(k):\n",
    "    return sum(int(digit) for digit in str(k))\n",
    "print(digit_sum(24))"
   ]
  },
  {
   "cell_type": "code",
   "execution_count": 5,
   "id": "1a314c85",
   "metadata": {},
   "outputs": [
    {
     "name": "stdout",
     "output_type": "stream",
     "text": [
      "2 4 8 "
     ]
    }
   ],
   "source": [
    "# 3. Ikki sonning darajalari\n",
    "# Berilgan N sonidan oshmaydigan barcha 2 ning darajalarini (ya'ni, 2**k shaklidagi sonlarni) chop etuvchi funksiyani yozing.\n",
    "\n",
    "# Misol:\n",
    "# Kiritish:\n",
    "# 10\n",
    "# Natija:\n",
    "# 2 4 8\n",
    "# (Izoh: 10 dan kichik yoki teng bo'lgan 2 ning darajalari: 2, 4, 8.)\n",
    "\n",
    "def powers_of_two(n):\n",
    "    power = 1\n",
    "    while power * 2 <= n:\n",
    "        power *= 2\n",
    "        print(power, end=' ')\n",
    "powers_of_two(10)\n"
   ]
  },
  {
   "cell_type": "code",
   "execution_count": 6,
   "metadata": {},
   "outputs": [
    {
     "name": "stdout",
     "output_type": "stream",
     "text": [
      "[2, 4, 8]\n"
     ]
    }
   ],
   "source": [
    "def powers_of_two(n):\n",
    "    result = []\n",
    "    power = 1\n",
    "    while power * 2 <= n:\n",
    "        power *= 2\n",
    "        result.append(power)\n",
    "    return result\n",
    "print(powers_of_two(10))  # [2, 4, 8]\n"
   ]
  }
 ],
 "metadata": {
  "kernelspec": {
   "display_name": "Python 3",
   "language": "python",
   "name": "python3"
  },
  "language_info": {
   "codemirror_mode": {
    "name": "ipython",
    "version": 3
   },
   "file_extension": ".py",
   "mimetype": "text/x-python",
   "name": "python",
   "nbconvert_exporter": "python",
   "pygments_lexer": "ipython3",
   "version": "3.13.5"
  }
 },
 "nbformat": 4,
 "nbformat_minor": 5
}
